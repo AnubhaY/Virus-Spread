{
 "cells": [
  {
   "cell_type": "code",
   "execution_count": 1,
   "id": "b9b517dc",
   "metadata": {},
   "outputs": [],
   "source": [
    "import numpy as np"
   ]
  },
  {
   "cell_type": "code",
   "execution_count": 2,
   "id": "b1b996b3",
   "metadata": {},
   "outputs": [],
   "source": [
    "x = np.array([[1, 2, 3], [4, 5, 6]], np.int32)"
   ]
  },
  {
   "cell_type": "code",
   "execution_count": 3,
   "id": "a5ece51e",
   "metadata": {},
   "outputs": [],
   "source": [
    "x,y = 980, 875\n",
    "a = np.ones(x*y)\n",
    "a[:10] = 2\n",
    "a[100:200] = 0\n",
    "np.random.shuffle(a)\n",
    "a.shape = x, y\n",
    "x,y = a.shape\n",
    "shape = [x, y]"
   ]
  },
  {
   "cell_type": "code",
   "execution_count": 4,
   "id": "e71dd035",
   "metadata": {
    "scrolled": true
   },
   "outputs": [
    {
     "data": {
      "text/plain": [
       "(980, 875, [980, 875])"
      ]
     },
     "execution_count": 4,
     "metadata": {},
     "output_type": "execute_result"
    }
   ],
   "source": [
    "x, y, shape"
   ]
  },
  {
   "cell_type": "code",
   "execution_count": 5,
   "id": "940108c2",
   "metadata": {},
   "outputs": [
    {
     "data": {
      "text/plain": [
       "(array([  0,   0,   0, ..., 979, 979, 979]),\n",
       " array([  0,   1,   2, ..., 872, 873, 874]))"
      ]
     },
     "execution_count": 5,
     "metadata": {},
     "output_type": "execute_result"
    }
   ],
   "source": [
    "np.where(a==1)"
   ]
  },
  {
   "cell_type": "code",
   "execution_count": 6,
   "id": "90c57d28",
   "metadata": {},
   "outputs": [],
   "source": [
    "import itertools\n",
    "import time"
   ]
  },
  {
   "cell_type": "code",
   "execution_count": 7,
   "id": "83b64357",
   "metadata": {},
   "outputs": [
    {
     "name": "stdout",
     "output_type": "stream",
     "text": [
      "[+] done in 606\n",
      "Time: 1.8139011859893799\n"
     ]
    }
   ],
   "source": [
    "#print(a)\n",
    "t3 = time.time()\n",
    "x,y = a.shape\n",
    "infected_matrix_padded = np.zeros((x+2)*(y+2))\n",
    "infected_matrix_padded.shape = x+2, y+2\n",
    "infected_matrix_padded[1:-1, 1:-1] = a.copy()\n",
    "infected_matrix_padded[infected_matrix_padded == 1] = 0\n",
    "infected_matrix_padded = np.array(infected_matrix_padded, dtype=bool) # False = 0, 1. True = 2\n",
    "\n",
    "infected_matrix = infected_matrix_padded[1:-1, 1:-1]\n",
    "\n",
    "occupancy_matrix = np.array(a, dtype=bool) # False = 0. True = 1,2\n",
    "\n",
    "class matrix_rotate:\n",
    "\n",
    "    def remove(self, a, i, j):\n",
    "        return np.delete(a,i, j)\n",
    "\n",
    "    def up(self, a):\n",
    "        return a[2:, 1:-1]\n",
    "\n",
    "    def down(self, a):\n",
    "        return a[:-2, 1:-1]\n",
    "\n",
    "    def left(self, a):\n",
    "        return a[1:-1, 2:]\n",
    "\n",
    "    def right(self, a):\n",
    "        return a[1:-1, :-2]\n",
    "    \n",
    "    def spread(self, a):\n",
    "        a1 = self.up(a)\n",
    "        a2 = self.down(a)\n",
    "        a3 = self.left(a)\n",
    "        a4 = self.right(a)\n",
    "        \n",
    "        a[1:-1, 1:-1] = a1 + a2 + a3 + a4 + a[1:-1, 1:-1]\n",
    "    \n",
    "def count_empty(matrix):\n",
    "    return np.size(matrix) - np.count_nonzero(matrix)\n",
    "\n",
    "unoccupied_count = count_empty(occupancy_matrix) # blue print (empty ward) (0)\n",
    "uninfected_count_prev = count_empty(infected_matrix)  # virus uninfected ward (0,1)\n",
    "counter = 0\n",
    "matrix = matrix_rotate()\n",
    "\n",
    "while True:\n",
    "    counter += 1\n",
    "    matrix.spread(infected_matrix_padded)\n",
    "    \n",
    "    infected_matrix_padded[1:-1, 1:-1] = infected_matrix*occupancy_matrix # make unoccupied as uninfected\n",
    "    \n",
    "    uninfected_count = count_empty(infected_matrix)\n",
    "    if uninfected_count == unoccupied_count: # virus is spread to all\n",
    "        print(f'[+] done in {counter}') # return counter\n",
    "        break\n",
    "    if uninfected_count == uninfected_count_prev: # virus is no longer spreading\n",
    "        print(f'[+] cannot be done') # return -1\n",
    "        break\n",
    "    else:\n",
    "        uninfected_count_prev = uninfected_count # continue spread of virus\n",
    "        \n",
    "t4 = time.time()\n",
    "print(f\"Time: {(t4-t3)}\")"
   ]
  },
  {
   "cell_type": "code",
   "execution_count": null,
   "id": "0da6cdd9",
   "metadata": {},
   "outputs": [],
   "source": []
  },
  {
   "cell_type": "code",
   "execution_count": null,
   "id": "51bd8f1b",
   "metadata": {},
   "outputs": [],
   "source": [
    "#a = np.array([[2, 1, 0, 2, 1], [1, 0, 1, 2, 1], [1, 0, 0, 2, 1]], np.int32)\n",
    "a"
   ]
  }
 ],
 "metadata": {
  "kernelspec": {
   "display_name": "Python 3 (ipykernel)",
   "language": "python",
   "name": "python3"
  },
  "language_info": {
   "codemirror_mode": {
    "name": "ipython",
    "version": 3
   },
   "file_extension": ".py",
   "mimetype": "text/x-python",
   "name": "python",
   "nbconvert_exporter": "python",
   "pygments_lexer": "ipython3",
   "version": "3.10.4"
  }
 },
 "nbformat": 4,
 "nbformat_minor": 5
}
